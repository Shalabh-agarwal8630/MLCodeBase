{
  "nbformat": 4,
  "nbformat_minor": 0,
  "metadata": {
    "colab": {
      "provenance": []
    },
    "kernelspec": {
      "name": "python3",
      "display_name": "Python 3"
    },
    "language_info": {
      "name": "python"
    }
  },
  "cells": [
    {
      "cell_type": "code",
      "execution_count": null,
      "metadata": {
        "id": "K7kE3VsI8-rk"
      },
      "outputs": [],
      "source": [
        "import numpy as np\n",
        "import tensorflow as tf\n",
        "from tensorflow.keras.models import Sequential\n",
        "from tensorflow.keras.layers import GRU, Dense, Embedding\n",
        "from tensorflow.keras.preprocessing.text import Tokenizer\n",
        "from tensorflow.keras.preprocessing.sequence import pad_sequences\n"
      ]
    },
    {
      "cell_type": "code",
      "source": [
        "text_data = [\n",
        "    \"The quick brown fox jumps over the lazy dog\",\n",
        "    \"One fish two fish red fish blue fish\",\n",
        "    \"To be or not to be that is the question\"\n",
        "]\n"
      ],
      "metadata": {
        "id": "HDWRS8RjAefl"
      },
      "execution_count": null,
      "outputs": []
    },
    {
      "cell_type": "code",
      "source": [
        "tokenizer = Tokenizer()\n",
        "tokenizer.fit_on_texts(text_data)\n",
        "total_words = len(tokenizer.word_index) + 1\n"
      ],
      "metadata": {
        "id": "WdJKCNjTAu73"
      },
      "execution_count": null,
      "outputs": []
    },
    {
      "cell_type": "code",
      "source": [
        "\n",
        "# Create input sequences using tokenized words\n",
        "input_sequences = []\n",
        "for line in text_data:\n",
        "    token_list = tokenizer.texts_to_sequences([line])[0]\n",
        "    for i in range(1, len(token_list)):\n",
        "        n_gram_sequence = token_list[:i+1]\n",
        "        input_sequences.append(n_gram_sequence)\n"
      ],
      "metadata": {
        "id": "Ie4jpwEHA6KD"
      },
      "execution_count": null,
      "outputs": []
    },
    {
      "cell_type": "code",
      "source": [
        "# Pad sequences for equal length\n",
        "max_sequence_len = max([len(x) for x in input_sequences])\n",
        "input_sequences = np.array(pad_sequences(input_sequences, maxlen=max_sequence_len, padding='pre'))\n"
      ],
      "metadata": {
        "id": "AVlp0qoYBD90"
      },
      "execution_count": null,
      "outputs": []
    },
    {
      "cell_type": "code",
      "source": [
        "predictors, label = input_sequences[:,:-1], input_sequences[:,-1]\n",
        "label = tf.keras.utils.to_categorical(label, num_classes=total_words)\n"
      ],
      "metadata": {
        "id": "YMMJ5ybwBlxM"
      },
      "execution_count": null,
      "outputs": []
    },
    {
      "cell_type": "code",
      "source": [
        "model = Sequential()\n",
        "model.add(Embedding(total_words, 100, input_length=max_sequence_len-1))\n",
        "model.add(GRU(150))\n",
        "model.add(Dense(total_words, activation='softmax'))\n",
        "model.compile(loss='categorical_crossentropy', optimizer='adam', metrics=['accuracy'])\n"
      ],
      "metadata": {
        "id": "cCIsH1pIB06a"
      },
      "execution_count": null,
      "outputs": []
    },
    {
      "cell_type": "code",
      "source": [
        "model.fit(predictors, label, epochs=100, verbose=1)\n"
      ],
      "metadata": {
        "colab": {
          "base_uri": "https://localhost:8080/"
        },
        "id": "2OeyEGS_CDPV",
        "outputId": "22f487bb-590d-483a-f6c0-fa5ffe3186f8"
      },
      "execution_count": null,
      "outputs": [
        {
          "output_type": "stream",
          "name": "stdout",
          "text": [
            "Epoch 1/100\n",
            "1/1 [==============================] - 3s 3s/step - loss: 3.0432 - accuracy: 0.0833\n",
            "Epoch 2/100\n",
            "1/1 [==============================] - 0s 22ms/step - loss: 3.0284 - accuracy: 0.2917\n",
            "Epoch 3/100\n",
            "1/1 [==============================] - 0s 23ms/step - loss: 3.0134 - accuracy: 0.2500\n",
            "Epoch 4/100\n",
            "1/1 [==============================] - 0s 25ms/step - loss: 2.9979 - accuracy: 0.2500\n",
            "Epoch 5/100\n",
            "1/1 [==============================] - 0s 21ms/step - loss: 2.9816 - accuracy: 0.2083\n",
            "Epoch 6/100\n",
            "1/1 [==============================] - 0s 22ms/step - loss: 2.9643 - accuracy: 0.2083\n",
            "Epoch 7/100\n",
            "1/1 [==============================] - 0s 21ms/step - loss: 2.9457 - accuracy: 0.1667\n",
            "Epoch 8/100\n",
            "1/1 [==============================] - 0s 22ms/step - loss: 2.9252 - accuracy: 0.1667\n",
            "Epoch 9/100\n",
            "1/1 [==============================] - 0s 27ms/step - loss: 2.9026 - accuracy: 0.1667\n",
            "Epoch 10/100\n",
            "1/1 [==============================] - 0s 24ms/step - loss: 2.8773 - accuracy: 0.1667\n",
            "Epoch 11/100\n",
            "1/1 [==============================] - 0s 22ms/step - loss: 2.8488 - accuracy: 0.1667\n",
            "Epoch 12/100\n",
            "1/1 [==============================] - 0s 21ms/step - loss: 2.8166 - accuracy: 0.1667\n",
            "Epoch 13/100\n",
            "1/1 [==============================] - 0s 21ms/step - loss: 2.7804 - accuracy: 0.1667\n",
            "Epoch 14/100\n",
            "1/1 [==============================] - 0s 20ms/step - loss: 2.7406 - accuracy: 0.1667\n",
            "Epoch 15/100\n",
            "1/1 [==============================] - 0s 22ms/step - loss: 2.6999 - accuracy: 0.1667\n",
            "Epoch 16/100\n",
            "1/1 [==============================] - 0s 21ms/step - loss: 2.6658 - accuracy: 0.1667\n",
            "Epoch 17/100\n",
            "1/1 [==============================] - 0s 23ms/step - loss: 2.6512 - accuracy: 0.1667\n",
            "Epoch 18/100\n",
            "1/1 [==============================] - 0s 27ms/step - loss: 2.6393 - accuracy: 0.1667\n",
            "Epoch 19/100\n",
            "1/1 [==============================] - 0s 21ms/step - loss: 2.6048 - accuracy: 0.1667\n",
            "Epoch 20/100\n",
            "1/1 [==============================] - 0s 23ms/step - loss: 2.5596 - accuracy: 0.1667\n",
            "Epoch 21/100\n",
            "1/1 [==============================] - 0s 25ms/step - loss: 2.5181 - accuracy: 0.1667\n",
            "Epoch 22/100\n",
            "1/1 [==============================] - 0s 23ms/step - loss: 2.4833 - accuracy: 0.2500\n",
            "Epoch 23/100\n",
            "1/1 [==============================] - 0s 22ms/step - loss: 2.4511 - accuracy: 0.2917\n",
            "Epoch 24/100\n",
            "1/1 [==============================] - 0s 20ms/step - loss: 2.4167 - accuracy: 0.3333\n",
            "Epoch 25/100\n",
            "1/1 [==============================] - 0s 22ms/step - loss: 2.3769 - accuracy: 0.3750\n",
            "Epoch 26/100\n",
            "1/1 [==============================] - 0s 22ms/step - loss: 2.3302 - accuracy: 0.3750\n",
            "Epoch 27/100\n",
            "1/1 [==============================] - 0s 31ms/step - loss: 2.2766 - accuracy: 0.3750\n",
            "Epoch 28/100\n",
            "1/1 [==============================] - 0s 27ms/step - loss: 2.2182 - accuracy: 0.3750\n",
            "Epoch 29/100\n",
            "1/1 [==============================] - 0s 24ms/step - loss: 2.1590 - accuracy: 0.3750\n",
            "Epoch 30/100\n",
            "1/1 [==============================] - 0s 26ms/step - loss: 2.1040 - accuracy: 0.3750\n",
            "Epoch 31/100\n",
            "1/1 [==============================] - 0s 24ms/step - loss: 2.0514 - accuracy: 0.3750\n",
            "Epoch 32/100\n",
            "1/1 [==============================] - 0s 24ms/step - loss: 1.9911 - accuracy: 0.3750\n",
            "Epoch 33/100\n",
            "1/1 [==============================] - 0s 30ms/step - loss: 1.9232 - accuracy: 0.4583\n",
            "Epoch 34/100\n",
            "1/1 [==============================] - 0s 23ms/step - loss: 1.8575 - accuracy: 0.5417\n",
            "Epoch 35/100\n",
            "1/1 [==============================] - 0s 24ms/step - loss: 1.7950 - accuracy: 0.5833\n",
            "Epoch 36/100\n",
            "1/1 [==============================] - 0s 23ms/step - loss: 1.7304 - accuracy: 0.6250\n",
            "Epoch 37/100\n",
            "1/1 [==============================] - 0s 21ms/step - loss: 1.6639 - accuracy: 0.6667\n",
            "Epoch 38/100\n",
            "1/1 [==============================] - 0s 24ms/step - loss: 1.5996 - accuracy: 0.7500\n",
            "Epoch 39/100\n",
            "1/1 [==============================] - 0s 26ms/step - loss: 1.5366 - accuracy: 0.7083\n",
            "Epoch 40/100\n",
            "1/1 [==============================] - 0s 22ms/step - loss: 1.4767 - accuracy: 0.6250\n",
            "Epoch 41/100\n",
            "1/1 [==============================] - 0s 28ms/step - loss: 1.4215 - accuracy: 0.5833\n",
            "Epoch 42/100\n",
            "1/1 [==============================] - 0s 24ms/step - loss: 1.3634 - accuracy: 0.5833\n",
            "Epoch 43/100\n",
            "1/1 [==============================] - 0s 24ms/step - loss: 1.3125 - accuracy: 0.6250\n",
            "Epoch 44/100\n",
            "1/1 [==============================] - 0s 23ms/step - loss: 1.2584 - accuracy: 0.6250\n",
            "Epoch 45/100\n",
            "1/1 [==============================] - 0s 27ms/step - loss: 1.2026 - accuracy: 0.6667\n",
            "Epoch 46/100\n",
            "1/1 [==============================] - 0s 22ms/step - loss: 1.1515 - accuracy: 0.7917\n",
            "Epoch 47/100\n",
            "1/1 [==============================] - 0s 23ms/step - loss: 1.0981 - accuracy: 0.7917\n",
            "Epoch 48/100\n",
            "1/1 [==============================] - 0s 22ms/step - loss: 1.0492 - accuracy: 0.8333\n",
            "Epoch 49/100\n",
            "1/1 [==============================] - 0s 24ms/step - loss: 1.0042 - accuracy: 0.8750\n",
            "Epoch 50/100\n",
            "1/1 [==============================] - 0s 23ms/step - loss: 0.9615 - accuracy: 0.8750\n",
            "Epoch 51/100\n",
            "1/1 [==============================] - 0s 23ms/step - loss: 0.9250 - accuracy: 0.8750\n",
            "Epoch 52/100\n",
            "1/1 [==============================] - 0s 25ms/step - loss: 0.8845 - accuracy: 0.8750\n",
            "Epoch 53/100\n",
            "1/1 [==============================] - 0s 23ms/step - loss: 0.8462 - accuracy: 0.8750\n",
            "Epoch 54/100\n",
            "1/1 [==============================] - 0s 21ms/step - loss: 0.8082 - accuracy: 0.8750\n",
            "Epoch 55/100\n",
            "1/1 [==============================] - 0s 26ms/step - loss: 0.7703 - accuracy: 0.8750\n",
            "Epoch 56/100\n",
            "1/1 [==============================] - 0s 26ms/step - loss: 0.7362 - accuracy: 0.8750\n",
            "Epoch 57/100\n",
            "1/1 [==============================] - 0s 32ms/step - loss: 0.7015 - accuracy: 0.8750\n",
            "Epoch 58/100\n",
            "1/1 [==============================] - 0s 22ms/step - loss: 0.6703 - accuracy: 0.9167\n",
            "Epoch 59/100\n",
            "1/1 [==============================] - 0s 24ms/step - loss: 0.6379 - accuracy: 0.9167\n",
            "Epoch 60/100\n",
            "1/1 [==============================] - 0s 23ms/step - loss: 0.6054 - accuracy: 0.9167\n",
            "Epoch 61/100\n",
            "1/1 [==============================] - 0s 22ms/step - loss: 0.5757 - accuracy: 0.9167\n",
            "Epoch 62/100\n",
            "1/1 [==============================] - 0s 39ms/step - loss: 0.5477 - accuracy: 0.9583\n",
            "Epoch 63/100\n",
            "1/1 [==============================] - 0s 24ms/step - loss: 0.5199 - accuracy: 0.9583\n",
            "Epoch 64/100\n",
            "1/1 [==============================] - 0s 24ms/step - loss: 0.4919 - accuracy: 0.9583\n",
            "Epoch 65/100\n",
            "1/1 [==============================] - 0s 24ms/step - loss: 0.4666 - accuracy: 0.9583\n",
            "Epoch 66/100\n",
            "1/1 [==============================] - 0s 22ms/step - loss: 0.4405 - accuracy: 1.0000\n",
            "Epoch 67/100\n",
            "1/1 [==============================] - 0s 21ms/step - loss: 0.4160 - accuracy: 1.0000\n",
            "Epoch 68/100\n",
            "1/1 [==============================] - 0s 23ms/step - loss: 0.3930 - accuracy: 1.0000\n",
            "Epoch 69/100\n",
            "1/1 [==============================] - 0s 23ms/step - loss: 0.3698 - accuracy: 1.0000\n",
            "Epoch 70/100\n",
            "1/1 [==============================] - 0s 25ms/step - loss: 0.3489 - accuracy: 1.0000\n",
            "Epoch 71/100\n",
            "1/1 [==============================] - 0s 23ms/step - loss: 0.3280 - accuracy: 1.0000\n",
            "Epoch 72/100\n",
            "1/1 [==============================] - 0s 25ms/step - loss: 0.3087 - accuracy: 1.0000\n",
            "Epoch 73/100\n",
            "1/1 [==============================] - 0s 23ms/step - loss: 0.2899 - accuracy: 1.0000\n",
            "Epoch 74/100\n",
            "1/1 [==============================] - 0s 25ms/step - loss: 0.2720 - accuracy: 1.0000\n",
            "Epoch 75/100\n",
            "1/1 [==============================] - 0s 22ms/step - loss: 0.2548 - accuracy: 1.0000\n",
            "Epoch 76/100\n",
            "1/1 [==============================] - 0s 23ms/step - loss: 0.2386 - accuracy: 1.0000\n",
            "Epoch 77/100\n",
            "1/1 [==============================] - 0s 22ms/step - loss: 0.2230 - accuracy: 1.0000\n",
            "Epoch 78/100\n",
            "1/1 [==============================] - 0s 22ms/step - loss: 0.2084 - accuracy: 1.0000\n",
            "Epoch 79/100\n",
            "1/1 [==============================] - 0s 22ms/step - loss: 0.1945 - accuracy: 1.0000\n",
            "Epoch 80/100\n",
            "1/1 [==============================] - 0s 23ms/step - loss: 0.1813 - accuracy: 1.0000\n",
            "Epoch 81/100\n",
            "1/1 [==============================] - 0s 25ms/step - loss: 0.1691 - accuracy: 1.0000\n",
            "Epoch 82/100\n",
            "1/1 [==============================] - 0s 23ms/step - loss: 0.1573 - accuracy: 1.0000\n",
            "Epoch 83/100\n",
            "1/1 [==============================] - 0s 22ms/step - loss: 0.1465 - accuracy: 1.0000\n",
            "Epoch 84/100\n",
            "1/1 [==============================] - 0s 22ms/step - loss: 0.1363 - accuracy: 1.0000\n",
            "Epoch 85/100\n",
            "1/1 [==============================] - 0s 21ms/step - loss: 0.1268 - accuracy: 1.0000\n",
            "Epoch 86/100\n",
            "1/1 [==============================] - 0s 22ms/step - loss: 0.1180 - accuracy: 1.0000\n",
            "Epoch 87/100\n",
            "1/1 [==============================] - 0s 22ms/step - loss: 0.1098 - accuracy: 1.0000\n",
            "Epoch 88/100\n",
            "1/1 [==============================] - 0s 27ms/step - loss: 0.1022 - accuracy: 1.0000\n",
            "Epoch 89/100\n",
            "1/1 [==============================] - 0s 23ms/step - loss: 0.0952 - accuracy: 1.0000\n",
            "Epoch 90/100\n",
            "1/1 [==============================] - 0s 23ms/step - loss: 0.0888 - accuracy: 1.0000\n",
            "Epoch 91/100\n",
            "1/1 [==============================] - 0s 22ms/step - loss: 0.0829 - accuracy: 1.0000\n",
            "Epoch 92/100\n",
            "1/1 [==============================] - 0s 25ms/step - loss: 0.0775 - accuracy: 1.0000\n",
            "Epoch 93/100\n",
            "1/1 [==============================] - 0s 23ms/step - loss: 0.0725 - accuracy: 1.0000\n",
            "Epoch 94/100\n",
            "1/1 [==============================] - 0s 21ms/step - loss: 0.0680 - accuracy: 1.0000\n",
            "Epoch 95/100\n",
            "1/1 [==============================] - 0s 23ms/step - loss: 0.0638 - accuracy: 1.0000\n",
            "Epoch 96/100\n",
            "1/1 [==============================] - 0s 21ms/step - loss: 0.0600 - accuracy: 1.0000\n",
            "Epoch 97/100\n",
            "1/1 [==============================] - 0s 22ms/step - loss: 0.0565 - accuracy: 1.0000\n",
            "Epoch 98/100\n",
            "1/1 [==============================] - 0s 23ms/step - loss: 0.0533 - accuracy: 1.0000\n",
            "Epoch 99/100\n",
            "1/1 [==============================] - 0s 33ms/step - loss: 0.0504 - accuracy: 1.0000\n",
            "Epoch 100/100\n",
            "1/1 [==============================] - 0s 25ms/step - loss: 0.0477 - accuracy: 1.0000\n"
          ]
        },
        {
          "output_type": "execute_result",
          "data": {
            "text/plain": [
              "<keras.src.callbacks.History at 0x78a96f7c5120>"
            ]
          },
          "metadata": {},
          "execution_count": 9
        }
      ]
    },
    {
      "cell_type": "code",
      "source": [
        "# Function to predict the next word\n",
        "def predict_next_word(seed_text, next_words):\n",
        "    for _ in range(next_words):\n",
        "        token_list = tokenizer.texts_to_sequences([seed_text])[0]\n",
        "        token_list = pad_sequences([token_list], maxlen=max_sequence_len-1, padding='pre')\n",
        "        predicted = model.predict_classes(token_list, verbose=0)\n",
        "        output_word = \"\"\n",
        "        for word, index in tokenizer.word_index.items():\n",
        "            if index == predicted:\n",
        "                output_word = word\n",
        "                break\n",
        "        seed_text += \" \" + output_word\n",
        "    return seed_text\n"
      ],
      "metadata": {
        "id": "KWepQmwoC3iR"
      },
      "execution_count": null,
      "outputs": []
    },
    {
      "cell_type": "code",
      "source": [
        "def predict_next_word(seed_text, next_words):\n",
        "    for _ in range(next_words):\n",
        "        token_list = tokenizer.texts_to_sequences([seed_text])[0]\n",
        "        token_list = pad_sequences([token_list], maxlen=max_sequence_len-1, padding='pre')\n",
        "        predicted_probs = model.predict(token_list, verbose=0)[0]\n",
        "        predicted_index = np.argmax(predicted_probs)\n",
        "        output_word = \"\"\n",
        "        for word, index in tokenizer.word_index.items():\n",
        "            if index == predicted_index:\n",
        "                output_word = word\n",
        "                break\n",
        "        seed_text += \" \" + output_word\n",
        "    return seed_text\n"
      ],
      "metadata": {
        "id": "xvQ5ozWkEDMi"
      },
      "execution_count": null,
      "outputs": []
    },
    {
      "cell_type": "code",
      "source": [
        "print(predict_next_word(\"to be\", 1))"
      ],
      "metadata": {
        "colab": {
          "base_uri": "https://localhost:8080/"
        },
        "id": "w_yhcfO0Dh_I",
        "outputId": "58974223-20e4-40e7-9dd6-ed233e2789f0"
      },
      "execution_count": null,
      "outputs": [
        {
          "output_type": "stream",
          "name": "stdout",
          "text": [
            "to be or\n"
          ]
        }
      ]
    }
  ]
}