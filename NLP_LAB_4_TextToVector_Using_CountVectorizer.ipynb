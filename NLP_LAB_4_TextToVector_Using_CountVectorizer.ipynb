{
  "nbformat": 4,
  "nbformat_minor": 0,
  "metadata": {
    "colab": {
      "provenance": []
    },
    "kernelspec": {
      "name": "python3",
      "display_name": "Python 3"
    },
    "language_info": {
      "name": "python"
    }
  },
  "cells": [
    {
      "cell_type": "code",
      "source": [
        "name = \"Yash Bhargava\"\n",
        "class_roll = 53\n",
        "university_roll = \"2115500160\""
      ],
      "metadata": {
        "id": "0xJHj8N-VAKe"
      },
      "execution_count": null,
      "outputs": []
    },
    {
      "cell_type": "code",
      "execution_count": null,
      "metadata": {
        "id": "FMX8T5aIW5K-"
      },
      "outputs": [],
      "source": [
        "str1 = \"GLA GLA is the best University\"\n",
        "str2 = \"Stock GLA price of Reliance is 2500 Rs.\"\n",
        "str3 = \"Cricket is the most popular sport\""
      ]
    },
    {
      "cell_type": "code",
      "source": [
        "collection = [str1, str2, str3]"
      ],
      "metadata": {
        "id": "N4qSF3rUeyUV"
      },
      "execution_count": null,
      "outputs": []
    },
    {
      "cell_type": "code",
      "source": [
        "print(collection)\n",
        "print(name,class_roll,university_roll)"
      ],
      "metadata": {
        "id": "S2X_zBlde0Uk",
        "outputId": "6696ff75-702d-4955-fdf5-a69ea4d01360",
        "colab": {
          "base_uri": "https://localhost:8080/"
        }
      },
      "execution_count": null,
      "outputs": [
        {
          "output_type": "stream",
          "name": "stdout",
          "text": [
            "['GLA GLA is the best University', 'Stock GLA price of Reliance is 2500 Rs.', 'Cricket is the most popular sport']\n",
            "Rishank Mehrotra 47 2115500122\n"
          ]
        }
      ]
    },
    {
      "cell_type": "code",
      "source": [
        "import pandas as pd"
      ],
      "metadata": {
        "id": "seo8rNMpVY_f"
      },
      "execution_count": null,
      "outputs": []
    },
    {
      "cell_type": "code",
      "source": [
        "from sklearn.feature_extraction.text import CountVectorizer"
      ],
      "metadata": {
        "id": "YAquXz0CnwO_"
      },
      "execution_count": null,
      "outputs": []
    },
    {
      "cell_type": "code",
      "source": [
        "vectorizer = CountVectorizer()\n",
        "\n",
        "vectorizer.fit(collection)\n",
        "terms = vectorizer.get_feature_names_out()\n",
        "print(\"Vocabulary: \", vectorizer.vocabulary_)\n",
        "vector = vectorizer.transform(collection)\n",
        "df = pd.DataFrame(\n",
        "    data = vector.toarray(),\n",
        "    index = ['d1','d2', 'd3'],\n",
        "    columns = terms\n",
        ")\n",
        "print(df)\n",
        "print(name,class_roll,university_roll)"
      ],
      "metadata": {
        "colab": {
          "base_uri": "https://localhost:8080/"
        },
        "id": "BKH7AzZep3Oe",
        "outputId": "03254236-912d-40a7-c75f-c0369443686f"
      },
      "execution_count": null,
      "outputs": [
        {
          "output_type": "stream",
          "name": "stdout",
          "text": [
            "Vocabulary:  {'gla': 3, 'is': 4, 'the': 13, 'best': 1, 'university': 14, 'stock': 12, 'price': 8, 'of': 6, 'reliance': 9, '2500': 0, 'rs': 10, 'cricket': 2, 'most': 5, 'popular': 7, 'sport': 11}\n",
            "    2500  best  cricket  gla  is  most  of  popular  price  reliance  rs  \\\n",
            "d1     0     1        0    2   1     0   0        0      0         0   0   \n",
            "d2     1     0        0    1   1     0   1        0      1         1   1   \n",
            "d3     0     0        1    0   1     1   0        1      0         0   0   \n",
            "\n",
            "    sport  stock  the  university  \n",
            "d1      0      0    1           1  \n",
            "d2      0      1    0           0  \n",
            "d3      1      0    1           0  \n",
            "Rishank Mehrotra 47 2115500122\n"
          ]
        }
      ]
    }
  ]
}