{
  "nbformat": 4,
  "nbformat_minor": 0,
  "metadata": {
    "colab": {
      "provenance": []
    },
    "kernelspec": {
      "name": "python3",
      "display_name": "Python 3"
    },
    "language_info": {
      "name": "python"
    }
  },
  "cells": [
    {
      "cell_type": "markdown",
      "source": [
        "# TF/IDF - Term Frequencey/ Inverse Document Frequency\n",
        "\n",
        "---\n",
        "            D1  D2  D3\n",
        "Education   15  0   0\n",
        "\n",
        "Sport       0   25  0\n",
        "\n",
        "Stock       0   0   35\n",
        "\n",
        "\n",
        "---\n",
        "\n",
        "\n",
        "D1 - Related to Education\n",
        "\n",
        "D2 - Related to Sport\n",
        "\n",
        "D3 - Related to Stock/ Finance\n",
        "\n",
        "IDF - LogD/Di\n",
        "\n",
        "D = Number of documents\n",
        "\n",
        "Di = Number of documents word appearing in\n",
        "\n",
        "IDF - It checks the rareness of words. We call it inverse as it checks like -\n",
        "\n",
        "\n",
        "---\n",
        "\n",
        "\n",
        "T - D (TF)\n",
        "\n",
        "D - T (IDF)\n",
        "\n",
        "IDF\n",
        "Education - 0.47\n",
        "\n",
        "Sport - 0.47\n",
        "\n",
        "Stock - 0.47\n",
        "\n",
        "the = 0\n",
        "\n",
        "New Matrix\n",
        "\n",
        "---\n",
        "\n",
        "7 0 0\n",
        "\n",
        "0 10 0\n",
        "\n",
        "0 0 15\n",
        "\n",
        "0 0 0\n",
        "\n",
        "This matrix will be obtained by :\n",
        "\n",
        "M[i][j] * IDF[i]\n",
        "\n",
        "\n",
        "\n",
        "---\n",
        "\n",
        "Query : Tell the document for stock price:\n",
        "\n",
        "Q - 0 0 1 0\n",
        "\n",
        "Since we search for stock and index of stock was 2 in matrix so only 1 at 2 index and rest are zero\n",
        "\n",
        "Now find Q.D1, Q.D2, Q.D3\n",
        "\n",
        "**Q.D1**\n",
        "\n",
        "0  \n",
        "\n",
        "0\n",
        "\n",
        "0\n",
        "\n",
        "0\n",
        "\n",
        "\n",
        "**Q.D2**\n",
        "\n",
        "0  \n",
        "\n",
        "0\n",
        "\n",
        "0\n",
        "\n",
        "0\n",
        "\n",
        "\n",
        "**Q.D3**\n",
        "\n",
        "0  \n",
        "\n",
        "0\n",
        "\n",
        "15\n",
        "\n",
        "0"
      ],
      "metadata": {
        "id": "20m7at-CXNts"
      }
    },
    {
      "cell_type": "markdown",
      "source": [
        "TF/IDF Vectorizer is used to convert nlp data into numeric data vectors.\n",
        "\n",
        "Popular techniques\n",
        "\n",
        "Glove, FastTex, BERT, GPT, One hot encoder, Word 2 vec\n",
        "\n",
        "**Note:** One hot encoder has very much disadvantages so we use BERT, GPT, WORD2VEC\n",
        "\n"
      ],
      "metadata": {
        "id": "H3sYSrQCc3Yd"
      }
    },
    {
      "cell_type": "code",
      "source": [
        "name = \"Yash\"\n",
        "class_roll = 53\n",
        "university_roll = \"2115500160\""
      ],
      "metadata": {
        "id": "aRRLRDJfT_Ab"
      },
      "execution_count": 1,
      "outputs": []
    },
    {
      "cell_type": "code",
      "source": [
        "# Take three strings str1, str2, str3 and create list of all the words in that particular strings in a single list.\n",
        "# Then create documents like for each word create D1 D2 D3 and then create vectors and calculate idf and all."
      ],
      "metadata": {
        "id": "xS9wo5yedQYT"
      },
      "execution_count": 2,
      "outputs": []
    },
    {
      "cell_type": "code",
      "source": [
        "education = \"Exploring the vast universe of knowledge education lights up our minds like constellations in the night sky. Each lesson is a journey and with every step we expand the horizons of our understanding\""
      ],
      "metadata": {
        "id": "iMsvCTUzfKI8"
      },
      "execution_count": 3,
      "outputs": []
    },
    {
      "cell_type": "code",
      "source": [
        "finance = \"Delving into the realm of finance is like navigating a dynamic landscape of numbers and decisions From budgeting to investments each choice plants the seed for future financial growth\""
      ],
      "metadata": {
        "id": "-wQFkcuhgfN6"
      },
      "execution_count": 4,
      "outputs": []
    },
    {
      "cell_type": "code",
      "source": [
        "stock = \"Exploring the world of stocks is akin to deciphering a constantly changing puzzle Each ticker symbol represents a unique narrative and with every trade a new chapter is written in the story of the market.\""
      ],
      "metadata": {
        "id": "za1E3-sZgq56"
      },
      "execution_count": 5,
      "outputs": []
    },
    {
      "cell_type": "code",
      "source": [
        "education = \"GLA is the best University\"\n",
        "finance = \" Stock price of Reliance is 2500 Rs.\"\n",
        "stock = \"Cricket is the most popular sport\""
      ],
      "metadata": {
        "id": "j15hQsv-oECT"
      },
      "execution_count": 6,
      "outputs": []
    },
    {
      "cell_type": "code",
      "source": [
        "words = []\n",
        "temp = education.split(\" \")\n",
        "for i in temp:\n",
        "  if(i not in words):\n",
        "    words.append(i)\n",
        "\n",
        "temp = finance.split(\" \")\n",
        "for i in temp:\n",
        "  if(i not in words):\n",
        "    words.append(i)\n",
        "\n",
        "temp = stock.split(\" \")\n",
        "for i in temp:\n",
        "  if(i not in words):\n",
        "    words.append(i)\n",
        "\n",
        "# words"
      ],
      "metadata": {
        "id": "NZ_4eFtOgzcZ"
      },
      "execution_count": 7,
      "outputs": []
    },
    {
      "cell_type": "code",
      "source": [
        "d = {}\n",
        "for i in words:\n",
        "  d[i] = [0,0,0,0]"
      ],
      "metadata": {
        "id": "Tb7pdHgXheiO"
      },
      "execution_count": 8,
      "outputs": []
    },
    {
      "cell_type": "code",
      "source": [
        "for i in words:\n",
        "  if(i in education):\n",
        "    prev = d[i][0]\n",
        "    lst = d[i]\n",
        "    lst[0] = prev+1;\n",
        "  if(i in finance):\n",
        "    prev = d[i][1]\n",
        "    lst = d[i]\n",
        "    lst[1] = prev+1;\n",
        "    d[i] = lst\n",
        "  if(i in stock):\n",
        "    prev = d[i][2]\n",
        "    lst = d[i]\n",
        "    lst[2] = prev+1;\n",
        "    d[i] = lst\n",
        "print(d)\n",
        "print(name,class_roll,university_roll)"
      ],
      "metadata": {
        "colab": {
          "base_uri": "https://localhost:8080/",
          "height": 0
        },
        "id": "PiF0HeOmjv3g",
        "outputId": "fde0a851-8efe-408e-d625-2e824ed8d973"
      },
      "execution_count": 9,
      "outputs": [
        {
          "output_type": "stream",
          "name": "stdout",
          "text": [
            "{'GLA': [1, 0, 0, 0], 'is': [1, 1, 1, 0], 'the': [1, 0, 1, 0], 'best': [1, 0, 0, 0], 'University': [1, 0, 0, 0], '': [1, 1, 1, 0], 'Stock': [0, 1, 0, 0], 'price': [0, 1, 0, 0], 'of': [0, 1, 0, 0], 'Reliance': [0, 1, 0, 0], '2500': [0, 1, 0, 0], 'Rs.': [0, 1, 0, 0], 'Cricket': [0, 0, 1, 0], 'most': [0, 0, 1, 0], 'popular': [0, 0, 1, 0], 'sport': [0, 0, 1, 0]}\n",
            "Rishank Mehrotra 47 2115500122\n"
          ]
        }
      ]
    },
    {
      "cell_type": "code",
      "source": [
        "import math\n",
        "for i in d:\n",
        "  di = 0\n",
        "  if i in education:\n",
        "    di = di+1\n",
        "  if i in finance:\n",
        "    di = di+1\n",
        "  if i in stock:\n",
        "    di = di+1\n",
        "  idf_value = math.log(3 / di)\n",
        "  d[i][3] = idf_value\n"
      ],
      "metadata": {
        "id": "fpgq5oVekP19"
      },
      "execution_count": 10,
      "outputs": []
    },
    {
      "cell_type": "code",
      "source": [
        "print(d)\n",
        "print(name,class_roll,university_roll)"
      ],
      "metadata": {
        "colab": {
          "base_uri": "https://localhost:8080/",
          "height": 0
        },
        "id": "DDJm9budnGRa",
        "outputId": "ef070fc8-477c-49e9-c0ec-3786f79380af"
      },
      "execution_count": 11,
      "outputs": [
        {
          "output_type": "stream",
          "name": "stdout",
          "text": [
            "{'GLA': [1, 0, 0, 1.0986122886681098], 'is': [1, 1, 1, 0.0], 'the': [1, 0, 1, 0.4054651081081644], 'best': [1, 0, 0, 1.0986122886681098], 'University': [1, 0, 0, 1.0986122886681098], '': [1, 1, 1, 0.0], 'Stock': [0, 1, 0, 1.0986122886681098], 'price': [0, 1, 0, 1.0986122886681098], 'of': [0, 1, 0, 1.0986122886681098], 'Reliance': [0, 1, 0, 1.0986122886681098], '2500': [0, 1, 0, 1.0986122886681098], 'Rs.': [0, 1, 0, 1.0986122886681098], 'Cricket': [0, 0, 1, 1.0986122886681098], 'most': [0, 0, 1, 1.0986122886681098], 'popular': [0, 0, 1, 1.0986122886681098], 'sport': [0, 0, 1, 1.0986122886681098]}\n",
            "Rishank Mehrotra 47 2115500122\n"
          ]
        }
      ]
    },
    {
      "cell_type": "code",
      "source": [
        "for i in d:\n",
        "  arr = d[i]\n",
        "  for j in range(3):\n",
        "    arr[j] = arr[j] * arr[3]\n",
        "  d[i] = arr"
      ],
      "metadata": {
        "id": "KMwolLBwnPOa"
      },
      "execution_count": 12,
      "outputs": []
    },
    {
      "cell_type": "code",
      "source": [
        "print(d)\n",
        "print(name,class_roll,university_roll)"
      ],
      "metadata": {
        "colab": {
          "base_uri": "https://localhost:8080/",
          "height": 0
        },
        "id": "jirliM8CoCTl",
        "outputId": "c016eedc-0d38-42bf-f14b-508adafcf599"
      },
      "execution_count": 13,
      "outputs": [
        {
          "output_type": "stream",
          "name": "stdout",
          "text": [
            "{'GLA': [1.0986122886681098, 0.0, 0.0, 1.0986122886681098], 'is': [0.0, 0.0, 0.0, 0.0], 'the': [0.4054651081081644, 0.0, 0.4054651081081644, 0.4054651081081644], 'best': [1.0986122886681098, 0.0, 0.0, 1.0986122886681098], 'University': [1.0986122886681098, 0.0, 0.0, 1.0986122886681098], '': [0.0, 0.0, 0.0, 0.0], 'Stock': [0.0, 1.0986122886681098, 0.0, 1.0986122886681098], 'price': [0.0, 1.0986122886681098, 0.0, 1.0986122886681098], 'of': [0.0, 1.0986122886681098, 0.0, 1.0986122886681098], 'Reliance': [0.0, 1.0986122886681098, 0.0, 1.0986122886681098], '2500': [0.0, 1.0986122886681098, 0.0, 1.0986122886681098], 'Rs.': [0.0, 1.0986122886681098, 0.0, 1.0986122886681098], 'Cricket': [0.0, 0.0, 1.0986122886681098, 1.0986122886681098], 'most': [0.0, 0.0, 1.0986122886681098, 1.0986122886681098], 'popular': [0.0, 0.0, 1.0986122886681098, 1.0986122886681098], 'sport': [0.0, 0.0, 1.0986122886681098, 1.0986122886681098]}\n",
            "Rishank Mehrotra 47 2115500122\n"
          ]
        }
      ]
    },
    {
      "cell_type": "markdown",
      "source": [
        "# TF-IDF - Vectorizer"
      ],
      "metadata": {
        "id": "o0-G79otUeTu"
      }
    },
    {
      "cell_type": "code",
      "execution_count": 14,
      "metadata": {
        "id": "FMX8T5aIW5K-"
      },
      "outputs": [],
      "source": [
        "str1 = \"GLA GLA is the best University\"\n",
        "str2 = \"Stock GLA price of Reliance is 2500 Rs.\"\n",
        "str3 = \"Cricket is the most popular sport\""
      ]
    },
    {
      "cell_type": "code",
      "source": [
        "collection = [str1, str2, str3]"
      ],
      "metadata": {
        "id": "N4qSF3rUeyUV"
      },
      "execution_count": 15,
      "outputs": []
    },
    {
      "cell_type": "code",
      "source": [
        "print(collection)\n",
        "print(name,class_roll,university_roll)"
      ],
      "metadata": {
        "id": "S2X_zBlde0Uk",
        "outputId": "a893f3b4-eb4f-403e-ae21-b9f87aa58c82",
        "colab": {
          "base_uri": "https://localhost:8080/",
          "height": 0
        }
      },
      "execution_count": 16,
      "outputs": [
        {
          "output_type": "stream",
          "name": "stdout",
          "text": [
            "['GLA GLA is the best University', 'Stock GLA price of Reliance is 2500 Rs.', 'Cricket is the most popular sport']\n",
            "Rishank Mehrotra 47 2115500122\n"
          ]
        }
      ]
    },
    {
      "cell_type": "code",
      "source": [
        "from sklearn.feature_extraction.text import TfidfVectorizer"
      ],
      "metadata": {
        "id": "GcHx-mhSnbKv"
      },
      "execution_count": 17,
      "outputs": []
    },
    {
      "cell_type": "code",
      "source": [
        "tfidf = TfidfVectorizer()\n",
        "tfidf1 = tfidf.fit_transform(collection)"
      ],
      "metadata": {
        "id": "v-Kd0ox7mhF-"
      },
      "execution_count": 18,
      "outputs": []
    },
    {
      "cell_type": "code",
      "source": [
        "print(tfidf1)\n",
        "print(name,class_roll,university_roll)"
      ],
      "metadata": {
        "colab": {
          "base_uri": "https://localhost:8080/",
          "height": 0
        },
        "id": "STI_9i2VohbE",
        "outputId": "8d5e29cf-3c8f-4dad-bbbc-ad3be98723ef"
      },
      "execution_count": 19,
      "outputs": [
        {
          "output_type": "stream",
          "name": "stdout",
          "text": [
            "  (0, 14)\t0.43681765680021456\n",
            "  (0, 1)\t0.43681765680021456\n",
            "  (0, 13)\t0.3322110871696405\n",
            "  (0, 4)\t0.25799154486720605\n",
            "  (0, 3)\t0.664422174339281\n",
            "  (1, 10)\t0.3799446164315741\n",
            "  (1, 0)\t0.3799446164315741\n",
            "  (1, 9)\t0.3799446164315741\n",
            "  (1, 6)\t0.3799446164315741\n",
            "  (1, 8)\t0.3799446164315741\n",
            "  (1, 12)\t0.3799446164315741\n",
            "  (1, 4)\t0.22440141104916914\n",
            "  (1, 3)\t0.28895767404089806\n",
            "  (2, 11)\t0.450504072643198\n",
            "  (2, 7)\t0.450504072643198\n",
            "  (2, 5)\t0.450504072643198\n",
            "  (2, 2)\t0.450504072643198\n",
            "  (2, 13)\t0.3426199591918006\n",
            "  (2, 4)\t0.2660749625405929\n",
            "Rishank Mehrotra 47 2115500122\n"
          ]
        }
      ]
    },
    {
      "cell_type": "code",
      "source": [
        "print(tfidf.vocabulary_)\n",
        "print(tfidf.idf_)\n",
        "print(name,class_roll,university_roll)"
      ],
      "metadata": {
        "colab": {
          "base_uri": "https://localhost:8080/",
          "height": 0
        },
        "id": "divKZUqHm4HE",
        "outputId": "2bef119e-c7dc-460f-f076-7bc8661d28a5"
      },
      "execution_count": 20,
      "outputs": [
        {
          "output_type": "stream",
          "name": "stdout",
          "text": [
            "{'gla': 3, 'is': 4, 'the': 13, 'best': 1, 'university': 14, 'stock': 12, 'price': 8, 'of': 6, 'reliance': 9, '2500': 0, 'rs': 10, 'cricket': 2, 'most': 5, 'popular': 7, 'sport': 11}\n",
            "[1.69314718 1.69314718 1.69314718 1.28768207 1.         1.69314718\n",
            " 1.69314718 1.69314718 1.69314718 1.69314718 1.69314718 1.69314718\n",
            " 1.69314718 1.28768207 1.69314718]\n",
            "Rishank Mehrotra 47 2115500122\n"
          ]
        }
      ]
    },
    {
      "cell_type": "code",
      "source": [
        "terms = tfidf.get_feature_names_out()\n",
        "print(terms)\n",
        "print(name,class_roll,university_roll)"
      ],
      "metadata": {
        "colab": {
          "base_uri": "https://localhost:8080/",
          "height": 0
        },
        "id": "CZpsfQg5nJYy",
        "outputId": "e752894b-f698-4eb2-fea9-ae95d654a7a0"
      },
      "execution_count": 21,
      "outputs": [
        {
          "output_type": "stream",
          "name": "stdout",
          "text": [
            "['2500' 'best' 'cricket' 'gla' 'is' 'most' 'of' 'popular' 'price'\n",
            " 'reliance' 'rs' 'sport' 'stock' 'the' 'university']\n",
            "Rishank Mehrotra 47 2115500122\n"
          ]
        }
      ]
    },
    {
      "cell_type": "code",
      "source": [
        "import pandas as pd"
      ],
      "metadata": {
        "id": "COoCGxfjnRS8"
      },
      "execution_count": 22,
      "outputs": []
    },
    {
      "cell_type": "code",
      "source": [
        "df = pd.DataFrame(\n",
        "    data = tfidf1.toarray(),\n",
        "    index = ['d1','d2', 'd3'],\n",
        "    columns = terms\n",
        ")"
      ],
      "metadata": {
        "id": "RuLeucSonYB6"
      },
      "execution_count": 23,
      "outputs": []
    },
    {
      "cell_type": "code",
      "source": [
        "df"
      ],
      "metadata": {
        "colab": {
          "base_uri": "https://localhost:8080/",
          "height": 143
        },
        "id": "AsjbnyQHnvtU",
        "outputId": "e6ef5648-0cab-48aa-a460-3d7af7853ced"
      },
      "execution_count": 24,
      "outputs": [
        {
          "output_type": "execute_result",
          "data": {
            "text/plain": [
              "        2500      best   cricket       gla        is      most        of  \\\n",
              "d1  0.000000  0.436818  0.000000  0.664422  0.257992  0.000000  0.000000   \n",
              "d2  0.379945  0.000000  0.000000  0.288958  0.224401  0.000000  0.379945   \n",
              "d3  0.000000  0.000000  0.450504  0.000000  0.266075  0.450504  0.000000   \n",
              "\n",
              "     popular     price  reliance        rs     sport     stock       the  \\\n",
              "d1  0.000000  0.000000  0.000000  0.000000  0.000000  0.000000  0.332211   \n",
              "d2  0.000000  0.379945  0.379945  0.379945  0.000000  0.379945  0.000000   \n",
              "d3  0.450504  0.000000  0.000000  0.000000  0.450504  0.000000  0.342620   \n",
              "\n",
              "    university  \n",
              "d1    0.436818  \n",
              "d2    0.000000  \n",
              "d3    0.000000  "
            ],
            "text/html": [
              "\n",
              "  <div id=\"df-241e5957-7e66-4f28-ba1e-59181416de2d\" class=\"colab-df-container\">\n",
              "    <div>\n",
              "<style scoped>\n",
              "    .dataframe tbody tr th:only-of-type {\n",
              "        vertical-align: middle;\n",
              "    }\n",
              "\n",
              "    .dataframe tbody tr th {\n",
              "        vertical-align: top;\n",
              "    }\n",
              "\n",
              "    .dataframe thead th {\n",
              "        text-align: right;\n",
              "    }\n",
              "</style>\n",
              "<table border=\"1\" class=\"dataframe\">\n",
              "  <thead>\n",
              "    <tr style=\"text-align: right;\">\n",
              "      <th></th>\n",
              "      <th>2500</th>\n",
              "      <th>best</th>\n",
              "      <th>cricket</th>\n",
              "      <th>gla</th>\n",
              "      <th>is</th>\n",
              "      <th>most</th>\n",
              "      <th>of</th>\n",
              "      <th>popular</th>\n",
              "      <th>price</th>\n",
              "      <th>reliance</th>\n",
              "      <th>rs</th>\n",
              "      <th>sport</th>\n",
              "      <th>stock</th>\n",
              "      <th>the</th>\n",
              "      <th>university</th>\n",
              "    </tr>\n",
              "  </thead>\n",
              "  <tbody>\n",
              "    <tr>\n",
              "      <th>d1</th>\n",
              "      <td>0.000000</td>\n",
              "      <td>0.436818</td>\n",
              "      <td>0.000000</td>\n",
              "      <td>0.664422</td>\n",
              "      <td>0.257992</td>\n",
              "      <td>0.000000</td>\n",
              "      <td>0.000000</td>\n",
              "      <td>0.000000</td>\n",
              "      <td>0.000000</td>\n",
              "      <td>0.000000</td>\n",
              "      <td>0.000000</td>\n",
              "      <td>0.000000</td>\n",
              "      <td>0.000000</td>\n",
              "      <td>0.332211</td>\n",
              "      <td>0.436818</td>\n",
              "    </tr>\n",
              "    <tr>\n",
              "      <th>d2</th>\n",
              "      <td>0.379945</td>\n",
              "      <td>0.000000</td>\n",
              "      <td>0.000000</td>\n",
              "      <td>0.288958</td>\n",
              "      <td>0.224401</td>\n",
              "      <td>0.000000</td>\n",
              "      <td>0.379945</td>\n",
              "      <td>0.000000</td>\n",
              "      <td>0.379945</td>\n",
              "      <td>0.379945</td>\n",
              "      <td>0.379945</td>\n",
              "      <td>0.000000</td>\n",
              "      <td>0.379945</td>\n",
              "      <td>0.000000</td>\n",
              "      <td>0.000000</td>\n",
              "    </tr>\n",
              "    <tr>\n",
              "      <th>d3</th>\n",
              "      <td>0.000000</td>\n",
              "      <td>0.000000</td>\n",
              "      <td>0.450504</td>\n",
              "      <td>0.000000</td>\n",
              "      <td>0.266075</td>\n",
              "      <td>0.450504</td>\n",
              "      <td>0.000000</td>\n",
              "      <td>0.450504</td>\n",
              "      <td>0.000000</td>\n",
              "      <td>0.000000</td>\n",
              "      <td>0.000000</td>\n",
              "      <td>0.450504</td>\n",
              "      <td>0.000000</td>\n",
              "      <td>0.342620</td>\n",
              "      <td>0.000000</td>\n",
              "    </tr>\n",
              "  </tbody>\n",
              "</table>\n",
              "</div>\n",
              "    <div class=\"colab-df-buttons\">\n",
              "\n",
              "  <div class=\"colab-df-container\">\n",
              "    <button class=\"colab-df-convert\" onclick=\"convertToInteractive('df-241e5957-7e66-4f28-ba1e-59181416de2d')\"\n",
              "            title=\"Convert this dataframe to an interactive table.\"\n",
              "            style=\"display:none;\">\n",
              "\n",
              "  <svg xmlns=\"http://www.w3.org/2000/svg\" height=\"24px\" viewBox=\"0 -960 960 960\">\n",
              "    <path d=\"M120-120v-720h720v720H120Zm60-500h600v-160H180v160Zm220 220h160v-160H400v160Zm0 220h160v-160H400v160ZM180-400h160v-160H180v160Zm440 0h160v-160H620v160ZM180-180h160v-160H180v160Zm440 0h160v-160H620v160Z\"/>\n",
              "  </svg>\n",
              "    </button>\n",
              "\n",
              "  <style>\n",
              "    .colab-df-container {\n",
              "      display:flex;\n",
              "      gap: 12px;\n",
              "    }\n",
              "\n",
              "    .colab-df-convert {\n",
              "      background-color: #E8F0FE;\n",
              "      border: none;\n",
              "      border-radius: 50%;\n",
              "      cursor: pointer;\n",
              "      display: none;\n",
              "      fill: #1967D2;\n",
              "      height: 32px;\n",
              "      padding: 0 0 0 0;\n",
              "      width: 32px;\n",
              "    }\n",
              "\n",
              "    .colab-df-convert:hover {\n",
              "      background-color: #E2EBFA;\n",
              "      box-shadow: 0px 1px 2px rgba(60, 64, 67, 0.3), 0px 1px 3px 1px rgba(60, 64, 67, 0.15);\n",
              "      fill: #174EA6;\n",
              "    }\n",
              "\n",
              "    .colab-df-buttons div {\n",
              "      margin-bottom: 4px;\n",
              "    }\n",
              "\n",
              "    [theme=dark] .colab-df-convert {\n",
              "      background-color: #3B4455;\n",
              "      fill: #D2E3FC;\n",
              "    }\n",
              "\n",
              "    [theme=dark] .colab-df-convert:hover {\n",
              "      background-color: #434B5C;\n",
              "      box-shadow: 0px 1px 3px 1px rgba(0, 0, 0, 0.15);\n",
              "      filter: drop-shadow(0px 1px 2px rgba(0, 0, 0, 0.3));\n",
              "      fill: #FFFFFF;\n",
              "    }\n",
              "  </style>\n",
              "\n",
              "    <script>\n",
              "      const buttonEl =\n",
              "        document.querySelector('#df-241e5957-7e66-4f28-ba1e-59181416de2d button.colab-df-convert');\n",
              "      buttonEl.style.display =\n",
              "        google.colab.kernel.accessAllowed ? 'block' : 'none';\n",
              "\n",
              "      async function convertToInteractive(key) {\n",
              "        const element = document.querySelector('#df-241e5957-7e66-4f28-ba1e-59181416de2d');\n",
              "        const dataTable =\n",
              "          await google.colab.kernel.invokeFunction('convertToInteractive',\n",
              "                                                    [key], {});\n",
              "        if (!dataTable) return;\n",
              "\n",
              "        const docLinkHtml = 'Like what you see? Visit the ' +\n",
              "          '<a target=\"_blank\" href=https://colab.research.google.com/notebooks/data_table.ipynb>data table notebook</a>'\n",
              "          + ' to learn more about interactive tables.';\n",
              "        element.innerHTML = '';\n",
              "        dataTable['output_type'] = 'display_data';\n",
              "        await google.colab.output.renderOutput(dataTable, element);\n",
              "        const docLink = document.createElement('div');\n",
              "        docLink.innerHTML = docLinkHtml;\n",
              "        element.appendChild(docLink);\n",
              "      }\n",
              "    </script>\n",
              "  </div>\n",
              "\n",
              "\n",
              "<div id=\"df-682b0ad0-68ca-4e0e-a358-0610e9c2fb29\">\n",
              "  <button class=\"colab-df-quickchart\" onclick=\"quickchart('df-682b0ad0-68ca-4e0e-a358-0610e9c2fb29')\"\n",
              "            title=\"Suggest charts\"\n",
              "            style=\"display:none;\">\n",
              "\n",
              "<svg xmlns=\"http://www.w3.org/2000/svg\" height=\"24px\"viewBox=\"0 0 24 24\"\n",
              "     width=\"24px\">\n",
              "    <g>\n",
              "        <path d=\"M19 3H5c-1.1 0-2 .9-2 2v14c0 1.1.9 2 2 2h14c1.1 0 2-.9 2-2V5c0-1.1-.9-2-2-2zM9 17H7v-7h2v7zm4 0h-2V7h2v10zm4 0h-2v-4h2v4z\"/>\n",
              "    </g>\n",
              "</svg>\n",
              "  </button>\n",
              "\n",
              "<style>\n",
              "  .colab-df-quickchart {\n",
              "      --bg-color: #E8F0FE;\n",
              "      --fill-color: #1967D2;\n",
              "      --hover-bg-color: #E2EBFA;\n",
              "      --hover-fill-color: #174EA6;\n",
              "      --disabled-fill-color: #AAA;\n",
              "      --disabled-bg-color: #DDD;\n",
              "  }\n",
              "\n",
              "  [theme=dark] .colab-df-quickchart {\n",
              "      --bg-color: #3B4455;\n",
              "      --fill-color: #D2E3FC;\n",
              "      --hover-bg-color: #434B5C;\n",
              "      --hover-fill-color: #FFFFFF;\n",
              "      --disabled-bg-color: #3B4455;\n",
              "      --disabled-fill-color: #666;\n",
              "  }\n",
              "\n",
              "  .colab-df-quickchart {\n",
              "    background-color: var(--bg-color);\n",
              "    border: none;\n",
              "    border-radius: 50%;\n",
              "    cursor: pointer;\n",
              "    display: none;\n",
              "    fill: var(--fill-color);\n",
              "    height: 32px;\n",
              "    padding: 0;\n",
              "    width: 32px;\n",
              "  }\n",
              "\n",
              "  .colab-df-quickchart:hover {\n",
              "    background-color: var(--hover-bg-color);\n",
              "    box-shadow: 0 1px 2px rgba(60, 64, 67, 0.3), 0 1px 3px 1px rgba(60, 64, 67, 0.15);\n",
              "    fill: var(--button-hover-fill-color);\n",
              "  }\n",
              "\n",
              "  .colab-df-quickchart-complete:disabled,\n",
              "  .colab-df-quickchart-complete:disabled:hover {\n",
              "    background-color: var(--disabled-bg-color);\n",
              "    fill: var(--disabled-fill-color);\n",
              "    box-shadow: none;\n",
              "  }\n",
              "\n",
              "  .colab-df-spinner {\n",
              "    border: 2px solid var(--fill-color);\n",
              "    border-color: transparent;\n",
              "    border-bottom-color: var(--fill-color);\n",
              "    animation:\n",
              "      spin 1s steps(1) infinite;\n",
              "  }\n",
              "\n",
              "  @keyframes spin {\n",
              "    0% {\n",
              "      border-color: transparent;\n",
              "      border-bottom-color: var(--fill-color);\n",
              "      border-left-color: var(--fill-color);\n",
              "    }\n",
              "    20% {\n",
              "      border-color: transparent;\n",
              "      border-left-color: var(--fill-color);\n",
              "      border-top-color: var(--fill-color);\n",
              "    }\n",
              "    30% {\n",
              "      border-color: transparent;\n",
              "      border-left-color: var(--fill-color);\n",
              "      border-top-color: var(--fill-color);\n",
              "      border-right-color: var(--fill-color);\n",
              "    }\n",
              "    40% {\n",
              "      border-color: transparent;\n",
              "      border-right-color: var(--fill-color);\n",
              "      border-top-color: var(--fill-color);\n",
              "    }\n",
              "    60% {\n",
              "      border-color: transparent;\n",
              "      border-right-color: var(--fill-color);\n",
              "    }\n",
              "    80% {\n",
              "      border-color: transparent;\n",
              "      border-right-color: var(--fill-color);\n",
              "      border-bottom-color: var(--fill-color);\n",
              "    }\n",
              "    90% {\n",
              "      border-color: transparent;\n",
              "      border-bottom-color: var(--fill-color);\n",
              "    }\n",
              "  }\n",
              "</style>\n",
              "\n",
              "  <script>\n",
              "    async function quickchart(key) {\n",
              "      const quickchartButtonEl =\n",
              "        document.querySelector('#' + key + ' button');\n",
              "      quickchartButtonEl.disabled = true;  // To prevent multiple clicks.\n",
              "      quickchartButtonEl.classList.add('colab-df-spinner');\n",
              "      try {\n",
              "        const charts = await google.colab.kernel.invokeFunction(\n",
              "            'suggestCharts', [key], {});\n",
              "      } catch (error) {\n",
              "        console.error('Error during call to suggestCharts:', error);\n",
              "      }\n",
              "      quickchartButtonEl.classList.remove('colab-df-spinner');\n",
              "      quickchartButtonEl.classList.add('colab-df-quickchart-complete');\n",
              "    }\n",
              "    (() => {\n",
              "      let quickchartButtonEl =\n",
              "        document.querySelector('#df-682b0ad0-68ca-4e0e-a358-0610e9c2fb29 button');\n",
              "      quickchartButtonEl.style.display =\n",
              "        google.colab.kernel.accessAllowed ? 'block' : 'none';\n",
              "    })();\n",
              "  </script>\n",
              "</div>\n",
              "    </div>\n",
              "  </div>\n"
            ]
          },
          "metadata": {},
          "execution_count": 24
        }
      ]
    },
    {
      "cell_type": "code",
      "source": [
        "print(name,class_roll,university_roll)"
      ],
      "metadata": {
        "colab": {
          "base_uri": "https://localhost:8080/",
          "height": 0
        },
        "id": "JMpAtBPKUppp",
        "outputId": "ddf14bfa-7b41-4236-df39-c0ffbf2d1fbf"
      },
      "execution_count": 25,
      "outputs": [
        {
          "output_type": "stream",
          "name": "stdout",
          "text": [
            "Rishank Mehrotra 47 2115500122\n"
          ]
        }
      ]
    }
  ]
}